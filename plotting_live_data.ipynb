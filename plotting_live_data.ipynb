{
 "cells": [
  {
   "cell_type": "code",
   "execution_count": null,
   "metadata": {},
   "outputs": [],
   "source": [
    "#imports for mqtt\n",
    "import json\n",
    "from paho.mqtt import subscribe, client\n",
    "import os\n",
    "import socket\n",
    "\n",
    "#imports for visualization\n",
    "import panel as pn\n",
    "\n",
    "import holoviews as hv\n",
    "from bokeh.transform import linear_cmap\n",
    "from bokeh import palettes\n",
    "from bokeh.themes.theme import Theme\n",
    "import param\n",
    "\n",
    "#imports for data proc\n",
    "from numpy import nan\n",
    "import datetime"
   ]
  },
  {
   "cell_type": "code",
   "execution_count": null,
   "metadata": {},
   "outputs": [],
   "source": [
    "\n",
    "from bokeh.themes.theme import Theme\n",
    "\n",
    "theme = Theme(\n",
    "    json={\n",
    "    'attrs' : {\n",
    "        'Figure' : {\n",
    "            'outline_line_width': 0,\n",
    "        },\n",
    "    }\n",
    "})"
   ]
  },
  {
   "cell_type": "code",
   "execution_count": null,
   "metadata": {},
   "outputs": [],
   "source": [
    "css = '''\n",
    ".bk.panel-widget-box {\n",
    "  background: #f0f0f0;\n",
    "  border-radius: 5px;\n",
    "  border: 1px black solid;\n",
    "}\n",
    "'''\n",
    "\n",
    "pn.extension(raw_css=[css])\n",
    "hv.extension('bokeh')"
   ]
  },
  {
   "cell_type": "code",
   "execution_count": null,
   "metadata": {},
   "outputs": [],
   "source": [
    "MQTT_USER = os.getenv('MQTT_USER')\n",
    "MQTT_PASSWORD= os.getenv('MQTT_PASSWORD')\n",
    "MQTT_ADDRESS= os.getenv('MQTT_ADDRESS')"
   ]
  },
  {
   "cell_type": "code",
   "execution_count": null,
   "metadata": {},
   "outputs": [],
   "source": [
    "hv.renderer('bokeh').theme = theme"
   ]
  },
  {
   "cell_type": "code",
   "execution_count": null,
   "metadata": {},
   "outputs": [],
   "source": [
    "topics = {\"zigbee2mqtt/TH_bureau\":\"bureau\",\n",
    "          \"zigbee2mqtt/TH_Paul\":\"paul\",\n",
    "          \"zigbee2mqtt/TH_Salon\":\"salon\",\n",
    "          \"zigbee2mqtt/TH_SDB\":\"sdb\",\n",
    "          \"zigbee2mqtt/TH_Cuisine\":\"cuisine\",\n",
    "          \"zigbee2mqtt/TH_Entree\":\"entree\",\n",
    "          \"zigbee2mqtt/TH_CageEscalier\":\"cage_desc\",\n",
    "          \"zigbee2mqtt/TH_Chambre\":\"chambre\",\n",
    "}"
   ]
  },
  {
   "cell_type": "code",
   "execution_count": null,
   "metadata": {},
   "outputs": [],
   "source": [
    "shiny_names = {\n",
    "    \"bureau\":\"Bureau\",\n",
    "    \"paul\":\"Paul\",\n",
    "    \"salon\":\"Salon\",\n",
    "    \"sdb\":\"S. de bain\",\n",
    "    \"cuisine\": \"Cuisine\",\n",
    "    \"entree\": \"Entrée\",\n",
    "    \"cage_desc\": \"Cage d'escalier\",\n",
    "    \"chambre\": \"Chambre\"\n",
    "    }"
   ]
  },
  {
   "cell_type": "code",
   "execution_count": null,
   "metadata": {},
   "outputs": [],
   "source": [
    "def fetch_first_message(topic):\n",
    "    msg = subscribe.simple(topic,hostname=MQTT_ADDRESS,auth={'username':MQTT_USER,'password':MQTT_PASSWORD},\n",
    "                     retained=True,\n",
    "                     will={'topic':topic,'retain':True})\n",
    "    payload = json.loads(msg.payload)\n",
    "    payload.setdefault('linkquality',None)#in case it is missing from message\n",
    "    for k, v in payload.items():\n",
    "        #make all of them floats\n",
    "        if k in ['pressure','temperature','humidity']:\n",
    "            payload[k] = float(v)\n",
    "    return payload"
   ]
  },
  {
   "cell_type": "code",
   "execution_count": null,
   "metadata": {},
   "outputs": [],
   "source": [
    "sensor_streams = {room: hv.streams.Stream.define(room,\n",
    "                                    **fetch_first_message(channel))() for channel, room in topics.items()}"
   ]
  },
  {
   "cell_type": "code",
   "execution_count": null,
   "metadata": {},
   "outputs": [],
   "source": [
    "def room_plots(humidity,temperature,pressure,voltage,battery,linkquality=None,room_name='room'):\n",
    "    \n",
    "    \n",
    "    def value_plot(value,unit='°C',palette=palettes.Plasma5,ylim=(-20,40),low=0,high=40,):\n",
    "    \n",
    "        scat = hv.Scatter({0:value},kdims='x',vdims='y')\n",
    "        spik = hv.Spikes(scat,kdims='x',vdims='y')\n",
    "        lab = hv.Text(x=0,y=value,text=f\"{value}{unit}\")\n",
    "\n",
    "        mapper = linear_cmap(field_name='y',palette=palette,low=low,high=high)\n",
    "\n",
    "        opts=dict(ylim=ylim,\n",
    "                  responsive=True,\n",
    "                  xaxis=None,yaxis=None,\n",
    "                  toolbar='disable',\n",
    "                  min_width=80,\n",
    "                  height=150,\n",
    "                  border=0)\n",
    "        layout = (spik*scat*lab).opts(\n",
    "                                        hv.opts.Scatter(size=80,color=mapper,**opts),\n",
    "                                        hv.opts.Spikes(line_width=3,**opts),\n",
    "                                        hv.opts.Text(color='black'),\n",
    "\n",
    "        )\n",
    "        \n",
    "        return layout.opts(shared_axes=False)\n",
    "    \n",
    "    \n",
    "    temp_layout = value_plot(temperature)\n",
    "    \n",
    "    hum_layout = value_plot(humidity,unit='%',palette=palettes.YlGnBu5[::-1],ylim=(0,100),low=20,high=100)\n",
    "    \n",
    "    \n",
    "    press_layout = value_plot(pressure,unit='\\nhPa',palette=palettes.Spectral5,ylim=(800,1200),low=900,high=1100)\n",
    "   \n",
    "    \n",
    "    colors = \"info\" if battery > 20 else \"danger\"\n",
    "    batt_pane = pn.indicators.Progress(name='battery',\n",
    "                                       value=int(battery),\n",
    "                                       max=100,width=50,height=20,\n",
    "                                       bar_color=colors)\n",
    "    \n",
    "    \n",
    "    colors = \"warning\" if (linkquality and linkquality > 20) else \"danger\"\n",
    "    lqual_pane = pn.indicators.Progress(name='linkquality',\n",
    "                                        width=50,height=20,\n",
    "                                      bar_color=colors,\n",
    "                                       align='end')\n",
    "    lqual_pane.max=255#panel version 10.2, max must be changed after creating Progress instance.\n",
    "    lqual_pane.value=int(linkquality) if linkquality else None\n",
    "    \n",
    "    \n",
    "    layout = pn.Column(pn.Row(pn.layout.HSpacer(),pn.pane.Markdown(f'##{room_name}'),pn.layout.HSpacer()),\n",
    "                        pn.Row(temp_layout,hum_layout,press_layout),\n",
    "                        pn.Row(batt_pane, pn.layout.HSpacer(),lqual_pane),\n",
    "                        css_classes=['panel-widget-box'])\n",
    "    \n",
    "    return layout\n"
   ]
  },
  {
   "cell_type": "code",
   "execution_count": null,
   "metadata": {},
   "outputs": [],
   "source": [
    "#define functions, each of which depends on each stream. \n",
    "plot_funcs = {}\n",
    "for k,room in sensor_streams.items():\n",
    "    def rename_func(name):\n",
    "        @param.depends(humidity = room.param.humidity,\n",
    "                       temperature = room.param.temperature,\n",
    "                       pressure = room.param.pressure,\n",
    "                       voltage = room.param.voltage,\n",
    "                       battery = room.param.battery,\n",
    "                       linkquality = room.param.linkquality)\n",
    "        def show_room(humidity,temperature,pressure,voltage,battery,linkquality):\n",
    "            return room_plots(humidity,temperature,pressure,voltage,battery,linkquality,\n",
    "                              room_name=shiny_names[name])        \n",
    "        show_room.__name__ = f\"show_{name}_room\"\n",
    "        return show_room\n",
    "    plot_funcs[k]=rename_func(k)"
   ]
  },
  {
   "cell_type": "code",
   "execution_count": null,
   "metadata": {},
   "outputs": [],
   "source": [
    "Info = pn.pane.Markdown('## Dernière info:')\n",
    "flex = pn.FlexBox(*[plot_funcs['paul'],\n",
    "                  plot_funcs['bureau'],\n",
    "                  Info,\n",
    "                  plot_funcs['chambre'],\n",
    "                  plot_funcs['salon'],\n",
    "                  plot_funcs['entree'],\n",
    "                  plot_funcs['cuisine'],\n",
    "                  plot_funcs['sdb'],\n",
    "                  plot_funcs['cage_desc']\n",
    "                  \n",
    "                  ])"
   ]
  },
  {
   "cell_type": "code",
   "execution_count": null,
   "metadata": {},
   "outputs": [],
   "source": [
    "myclient = client.Client(client_id=socket.gethostname(),)"
   ]
  },
  {
   "cell_type": "code",
   "execution_count": null,
   "metadata": {},
   "outputs": [],
   "source": [
    "myclient.username_pw_set(MQTT_USER,password=MQTT_PASSWORD)"
   ]
  },
  {
   "cell_type": "code",
   "execution_count": null,
   "metadata": {},
   "outputs": [],
   "source": [
    "myclient.connect(MQTT_ADDRESS)"
   ]
  },
  {
   "cell_type": "code",
   "execution_count": null,
   "metadata": {},
   "outputs": [],
   "source": [
    "def on_message(client, userdata, message):\n",
    "    room = topics[message.topic]\n",
    "    payload = json.loads(message.payload)\n",
    "    ts = datetime.datetime.fromtimestamp(message.timestamp).isoformat()\n",
    "    Info.object=f'## Dernière info:\\n- depuis: {message.topic}\\n- date: {datetime.datetime.now().isoformat()}'\n",
    "    sensor_streams[room].event(**payload)"
   ]
  },
  {
   "cell_type": "code",
   "execution_count": null,
   "metadata": {},
   "outputs": [],
   "source": [
    "myclient.loop_start()\n",
    "myclient.subscribe(list((chan,0) for chan in topics.keys()))\n",
    "myclient.on_message = on_message"
   ]
  },
  {
   "cell_type": "code",
   "execution_count": null,
   "metadata": {},
   "outputs": [],
   "source": [
    "flex.servable()"
   ]
  },
  {
   "cell_type": "code",
   "execution_count": null,
   "metadata": {},
   "outputs": [],
   "source": []
  }
 ],
 "metadata": {
  "kernelspec": {
   "display_name": "Python [conda env:home_on_bokeh]",
   "language": "python",
   "name": "conda-env-home_on_bokeh-py"
  },
  "language_info": {
   "codemirror_mode": {
    "name": "ipython",
    "version": 3
   },
   "file_extension": ".py",
   "mimetype": "text/x-python",
   "name": "python",
   "nbconvert_exporter": "python",
   "pygments_lexer": "ipython3",
   "version": "3.7.9"
  }
 },
 "nbformat": 4,
 "nbformat_minor": 4
}
