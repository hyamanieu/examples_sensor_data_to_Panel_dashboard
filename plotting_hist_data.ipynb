{
 "cells": [
  {
   "cell_type": "code",
   "execution_count": null,
   "metadata": {},
   "outputs": [],
   "source": [
    "import panel as pn\n",
    "import pandas as pd\n",
    "import hvplot.pandas\n",
    "import holoviews as hv\n",
    "from sqlalchemy import create_engine\n",
    "import param\n",
    "from bokeh.models.formatters import DatetimeTickFormatter"
   ]
  },
  {
   "cell_type": "code",
   "execution_count": null,
   "metadata": {},
   "outputs": [],
   "source": [
    "from sqlalchemy.ext.declarative import declarative_base\n",
    "from sqlalchemy import Table, schema\n",
    "from sqlalchemy.orm import sessionmaker\n",
    "import os"
   ]
  },
  {
   "cell_type": "code",
   "execution_count": null,
   "metadata": {},
   "outputs": [],
   "source": [
    "import datetime as dt"
   ]
  },
  {
   "cell_type": "code",
   "execution_count": null,
   "metadata": {},
   "outputs": [],
   "source": [
    "XFORMATTER = DatetimeTickFormatter()\n",
    "XFORMATTER.years = ['%Y-%m-%d']\n",
    "XFORMATTER.months = ['%Y-%m-%d']\n",
    "XFORMATTER.days = ['%d/%m']"
   ]
  },
  {
   "cell_type": "code",
   "execution_count": null,
   "metadata": {},
   "outputs": [],
   "source": [
    "pn.extension()"
   ]
  },
  {
   "cell_type": "code",
   "execution_count": null,
   "metadata": {},
   "outputs": [],
   "source": [
    "POSTGRES_USER = os.getenv('POSTGRES_USER')\n",
    "POSTGRES_PASSWORD= os.getenv('POSTGRES_PASSWORD')\n",
    "POSTGRES_ADDRESS= os.getenv('POSTGRES_ADDRESS')"
   ]
  },
  {
   "cell_type": "code",
   "execution_count": null,
   "metadata": {},
   "outputs": [],
   "source": [
    "engine = create_engine('postgresql://{0}:{1}@{2}/sensors'.format(POSTGRES_USER,\n",
    "                                                                              POSTGRES_PASSWORD,\n",
    "                                                                              POSTGRES_ADDRESS))"
   ]
  },
  {
   "cell_type": "code",
   "execution_count": null,
   "metadata": {},
   "outputs": [],
   "source": [
    "Session = sessionmaker(bind=engine)\n",
    "session = Session()\n",
    "Base = declarative_base()\n",
    "Base.metadata.reflect(engine,schema='th')\n"
   ]
  },
  {
   "cell_type": "code",
   "execution_count": null,
   "metadata": {},
   "outputs": [],
   "source": []
  },
  {
   "cell_type": "code",
   "execution_count": null,
   "metadata": {},
   "outputs": [],
   "source": [
    "Base.metadata.tables.keys()"
   ]
  },
  {
   "cell_type": "code",
   "execution_count": null,
   "metadata": {},
   "outputs": [],
   "source": [
    "tablename = 'th.bureau'\n",
    "table = Base.metadata.tables[tablename]\n",
    "dates = (table.c.msg_ts <= dt.date.today()) & (table.c.msg_ts >= dt.date.today()-dt.timedelta(days=3))\n",
    "query = session.query(table).filter(dates)"
   ]
  },
  {
   "cell_type": "code",
   "execution_count": null,
   "metadata": {},
   "outputs": [],
   "source": [
    "session.rollback()"
   ]
  },
  {
   "cell_type": "code",
   "execution_count": null,
   "metadata": {},
   "outputs": [],
   "source": [
    "class Historic_Data_Panel(param.Parameterized):\n",
    "    \n",
    "    source = param.Selector(default='check_one_room', objects=['check_one_room','compare_rooms'])\n",
    "    lower_date = param.Date(default=dt.date.today()-dt.timedelta(days=3),bounds=(None,dt.date.today()))\n",
    "    upper_date = param.Date(default=dt.date.today(),bounds=(None,dt.date.today()))\n",
    "    \n",
    "    plot_kind = param.Selector(default='line',objects=['line','scatter'])\n",
    "    t_list = list(Base.metadata.tables.keys())\n",
    "    table_selector = param.ListSelector(default=t_list[:1], objects=t_list)\n",
    "    y_selec = param.Selector(default='temperature',objects=['temperature','humidity','pressure',\n",
    "                                                            'linkquality','battery','voltage'])\n",
    "    \n",
    "    table_selector2 = param.Selector(default=t_list[0], objects=t_list)\n",
    "    y_selec2 = param.ListSelector(default=['temperature','humidity','pressure'],\n",
    "                                 objects=['temperature','humidity','pressure',\n",
    "                                                            'linkquality','battery','voltage'])\n",
    "    \n",
    "    @param.depends('upper_date','lower_date',watch=True)\n",
    "    def load_dataframes(self):\n",
    "        self.dfs = {}\n",
    "        self.show_stuff.object = \"{0} => {1}\".format(self.lower_date,self.upper_date)\n",
    "        for tablename, table in Base.metadata.tables.items():\n",
    "            dates = ((table.c.msg_ts <= self.upper_date+dt.timedelta(days=1)) \n",
    "                     & (table.c.msg_ts >= self.lower_date))\n",
    "            query = session.query(table).filter(dates)\n",
    "            self.dfs[tablename] = pd.DataFrame(query.all())\n",
    "            \n",
    "            \n",
    "            \n",
    "    @param.depends('table_selector','y_selec','upper_date','lower_date','plot_kind')\n",
    "    def show_plot(self):\n",
    "        l=[]\n",
    "        grid_style = {\"grid_line_color\":\"olive\",\n",
    "                      \"minor_grid_line_color\":None}\n",
    "        for tn in self.table_selector:\n",
    "            p = self.dfs[tn].hvplot(kind=self.plot_kind,x='msg_ts',y=self.y_selec,rot=20,xformatter=XFORMATTER,\n",
    "                                        label=tn,responsive=True).opts(show_grid=True)\n",
    "            l.append(p)\n",
    "            \n",
    "        \n",
    "        o = hv.Overlay(l)\n",
    "        \n",
    "        return pn.pane.HoloViews(o,sizing_mode=\"stretch_both\",min_width=600,min_height=800)\n",
    "    \n",
    "    @param.depends('table_selector2','y_selec2','upper_date','lower_date','plot_kind')\n",
    "    def show_plot2(self):\n",
    "        tn = self.table_selector2\n",
    "        l=[]\n",
    "        grid_style = {\"grid_line_color\":\"olive\",\n",
    "                     \"minor_grid_line_color\":None}\n",
    "        def_opt = dict(gridstyle=grid_style,\n",
    "                   show_grid=True)\n",
    "        for i, y in enumerate(self.y_selec2):\n",
    "            p = self.dfs[tn].hvplot(kind=self.plot_kind,x='msg_ts',y=y,rot=20,xformatter=XFORMATTER,responsive=True,\n",
    "                                        min_height=150,min_width=300)\n",
    "            if i==0:\n",
    "                p.opts(xaxis='top',**def_opt)\n",
    "            else:\n",
    "                p.opts(xaxis=None, **def_opt)\n",
    "            l.append(p)\n",
    "        o = hv.Layout(l).cols(1)\n",
    "        return pn.pane.HoloViews(o,sizing_mode=\"stretch_both\",min_width=600,min_height=800)\n",
    "    \n",
    "    @param.depends('source')\n",
    "    def body(self):\n",
    "        if self.source != \"check_one_room\":\n",
    "            return self.show_plot\n",
    "        else:\n",
    "            return self.show_plot2\n",
    "    @param.depends('source')   \n",
    "    def widgets(self):\n",
    "        if self.source != \"check_one_room\":\n",
    "            return pn.Param(self.param,name=self.source.replace('_',' '),\n",
    "                     parameters=['table_selector','y_selec'],\n",
    "                     height_policy='fit',\n",
    "                     width_policy='fit')\n",
    "        else:             \n",
    "            return pn.Param(self.param,name=self.source.replace('_',' '),\n",
    "                     parameters=['table_selector2','y_selec2'],\n",
    "                     height_policy='fit',\n",
    "                     width_policy='fit')\n",
    "        \n",
    "    \n",
    "    def __init__(self,**params):\n",
    "        super().__init__(**params)\n",
    "        self.show_stuff = pn.pane.markup.Markdown(object='')\n",
    "        self.load_dataframes()\n",
    "        \n",
    "        \n",
    "\n",
    "\n"
   ]
  },
  {
   "cell_type": "code",
   "execution_count": null,
   "metadata": {},
   "outputs": [],
   "source": [
    "mypanel = Historic_Data_Panel()"
   ]
  },
  {
   "cell_type": "code",
   "execution_count": null,
   "metadata": {},
   "outputs": [],
   "source": [
    "bootstrap = pn.template.BootstrapTemplate(title='Bootstrap Template')\n",
    "\n",
    "\n",
    "bootstrap.sidebar.extend([\n",
    "    pn.Param(mypanel.param,\n",
    "             widgets={'source': pn.widgets.Select,\n",
    "                      'lower_date':pn.widgets.DatePicker,\n",
    "                      'upper_date':pn.widgets.DatePicker},\n",
    "             parameters=['source','lower_date','upper_date','plot_kind'],\n",
    "             height_policy='fit',\n",
    "             width_policy='fit',\n",
    "             name='Sensors'),\n",
    "    mypanel.widgets       \n",
    "        \n",
    "    ]\n",
    ")\n",
    "\n",
    "bootstrap.main.append(mypanel.body)\n",
    "         "
   ]
  },
  {
   "cell_type": "code",
   "execution_count": null,
   "metadata": {},
   "outputs": [],
   "source": [
    "bootstrap.servable()"
   ]
  },
  {
   "cell_type": "code",
   "execution_count": null,
   "metadata": {},
   "outputs": [],
   "source": []
  }
 ],
 "metadata": {
  "kernelspec": {
   "display_name": "Python [conda env:home_on_bokeh]",
   "language": "python",
   "name": "conda-env-home_on_bokeh-py"
  },
  "language_info": {
   "codemirror_mode": {
    "name": "ipython",
    "version": 3
   },
   "file_extension": ".py",
   "mimetype": "text/x-python",
   "name": "python",
   "nbconvert_exporter": "python",
   "pygments_lexer": "ipython3",
   "version": "3.7.9"
  }
 },
 "nbformat": 4,
 "nbformat_minor": 4
}
